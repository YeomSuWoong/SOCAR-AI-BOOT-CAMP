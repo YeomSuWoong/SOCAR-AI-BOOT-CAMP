{
  "nbformat": 4,
  "nbformat_minor": 0,
  "metadata": {
    "colab": {
      "name": "Assignment_1_ETA_예측_모델.ipynb",
      "provenance": [],
      "authorship_tag": "ABX9TyM+f1gFQngIMxvVxvTd+Ayh",
      "include_colab_link": true
    },
    "kernelspec": {
      "name": "python3",
      "display_name": "Python 3"
    },
    "language_info": {
      "name": "python"
    }
  },
  "cells": [
    {
      "cell_type": "markdown",
      "metadata": {
        "id": "view-in-github",
        "colab_type": "text"
      },
      "source": [
        "<a href=\"https://colab.research.google.com/github/YeomSuWoong/SOCAR-AI-BOOT-CAMP/blob/main/Assignment_1_ETA_%EC%98%88%EC%B8%A1_%EB%AA%A8%EB%8D%B8.ipynb\" target=\"_parent\"><img src=\"https://colab.research.google.com/assets/colab-badge.svg\" alt=\"Open In Colab\"/></a>"
      ]
    },
    {
      "cell_type": "code",
      "execution_count": 6,
      "metadata": {
        "colab": {
          "base_uri": "https://localhost:8080/"
        },
        "id": "JYisGipb_UNT",
        "outputId": "c4aee371-e027-45ca-e1c1-f12dfa38b4c1"
      },
      "outputs": [
        {
          "output_type": "stream",
          "name": "stdout",
          "text": [
            "Mounted at /content/drive\n"
          ]
        }
      ],
      "source": [
        "from google.colab import drive\n",
        "drive.mount('/content/drive')"
      ]
    },
    {
      "cell_type": "code",
      "source": [
        "import numpy as np \n",
        "import pandas as pd\n",
        "import matplotlib.pyplot as plt\n",
        "import sklearn\n",
        "from sklearn.preprocessing import StandardScaler\n",
        "from sklearn.decomposition import PCA\n",
        "from sklearn.metrics import mean_squared_error\n",
        "from sklearn import ensemble\n",
        "from sklearn.experimental import enable_hist_gradient_boosting\n",
        "from sklearn.ensemble import HistGradientBoostingRegressor\n",
        "from sklearn.model_selection import GridSearchCV\n",
        "from sklearn.model_selection import PredefinedSplit"
      ],
      "metadata": {
        "id": "VP_ydee__kcU"
      },
      "execution_count": 13,
      "outputs": []
    },
    {
      "cell_type": "code",
      "source": [
        "tada_eta = pd.read_excel('/content/drive/MyDrive/Colab Notebooks/Chapter2/tada_eta.xlsx')\n",
        "print(tada_eta.columns)\n",
        "tada_eta.head()"
      ],
      "metadata": {
        "colab": {
          "base_uri": "https://localhost:8080/",
          "height": 426
        },
        "id": "EOsH9uD-NDDH",
        "outputId": "bb1b5ed8-9fa4-4409-8ecd-678fdf03c4ec"
      },
      "execution_count": 14,
      "outputs": [
        {
          "output_type": "stream",
          "name": "stdout",
          "text": [
            "Index(['ATA', 'id', 'api_eta', 'created_at_kst', 'month', 'pickup_lng',\n",
            "       'pickup_lat', 'pickup_gu', 'driver_id', 'driver_lng', 'driver_lat',\n",
            "       'hour'],\n",
            "      dtype='object')\n"
          ]
        },
        {
          "output_type": "execute_result",
          "data": {
            "text/plain": [
              "     ATA              id  api_eta       created_at_kst  month  pickup_lng  \\\n",
              "0  10.60  R4L9FL6NVEL4D0     5.65  2019-12-01T00:55:09     12  127.091399   \n",
              "1   9.20  R3A7JBY7CS6TPD     8.60  2019-12-01T00:09:39     12  127.023351   \n",
              "2  10.85  R2BIUY1TDK14XE    10.53  2019-12-15T00:18:42     12  126.881154   \n",
              "3   5.52  R31PU5GNHSGU6C     1.92  2019-07-31T00:24:11      7  126.988375   \n",
              "4   8.60  R41WR6N1VT42DJ     7.10  2019-07-05T00:40:34      7  126.988684   \n",
              "\n",
              "   pickup_lat pickup_gu driver_id  driver_lng  driver_lat  hour  \n",
              "0   37.624545       노원구  DST52944  127.069978   37.616472     0  \n",
              "1   37.625564       강북구  DPC72995  127.026479   37.604711     0  \n",
              "2   37.481641       금천구  DPP94923  126.906225   37.452167     0  \n",
              "3   37.567897        중구  DCT73585  126.991170   37.566416     0  \n",
              "4   37.566716        중구  DPJ86237  127.006860   37.571164     0  "
            ],
            "text/html": [
              "\n",
              "  <div id=\"df-64bdd39f-52e2-438a-884a-cf2b645bdc7e\">\n",
              "    <div class=\"colab-df-container\">\n",
              "      <div>\n",
              "<style scoped>\n",
              "    .dataframe tbody tr th:only-of-type {\n",
              "        vertical-align: middle;\n",
              "    }\n",
              "\n",
              "    .dataframe tbody tr th {\n",
              "        vertical-align: top;\n",
              "    }\n",
              "\n",
              "    .dataframe thead th {\n",
              "        text-align: right;\n",
              "    }\n",
              "</style>\n",
              "<table border=\"1\" class=\"dataframe\">\n",
              "  <thead>\n",
              "    <tr style=\"text-align: right;\">\n",
              "      <th></th>\n",
              "      <th>ATA</th>\n",
              "      <th>id</th>\n",
              "      <th>api_eta</th>\n",
              "      <th>created_at_kst</th>\n",
              "      <th>month</th>\n",
              "      <th>pickup_lng</th>\n",
              "      <th>pickup_lat</th>\n",
              "      <th>pickup_gu</th>\n",
              "      <th>driver_id</th>\n",
              "      <th>driver_lng</th>\n",
              "      <th>driver_lat</th>\n",
              "      <th>hour</th>\n",
              "    </tr>\n",
              "  </thead>\n",
              "  <tbody>\n",
              "    <tr>\n",
              "      <th>0</th>\n",
              "      <td>10.60</td>\n",
              "      <td>R4L9FL6NVEL4D0</td>\n",
              "      <td>5.65</td>\n",
              "      <td>2019-12-01T00:55:09</td>\n",
              "      <td>12</td>\n",
              "      <td>127.091399</td>\n",
              "      <td>37.624545</td>\n",
              "      <td>노원구</td>\n",
              "      <td>DST52944</td>\n",
              "      <td>127.069978</td>\n",
              "      <td>37.616472</td>\n",
              "      <td>0</td>\n",
              "    </tr>\n",
              "    <tr>\n",
              "      <th>1</th>\n",
              "      <td>9.20</td>\n",
              "      <td>R3A7JBY7CS6TPD</td>\n",
              "      <td>8.60</td>\n",
              "      <td>2019-12-01T00:09:39</td>\n",
              "      <td>12</td>\n",
              "      <td>127.023351</td>\n",
              "      <td>37.625564</td>\n",
              "      <td>강북구</td>\n",
              "      <td>DPC72995</td>\n",
              "      <td>127.026479</td>\n",
              "      <td>37.604711</td>\n",
              "      <td>0</td>\n",
              "    </tr>\n",
              "    <tr>\n",
              "      <th>2</th>\n",
              "      <td>10.85</td>\n",
              "      <td>R2BIUY1TDK14XE</td>\n",
              "      <td>10.53</td>\n",
              "      <td>2019-12-15T00:18:42</td>\n",
              "      <td>12</td>\n",
              "      <td>126.881154</td>\n",
              "      <td>37.481641</td>\n",
              "      <td>금천구</td>\n",
              "      <td>DPP94923</td>\n",
              "      <td>126.906225</td>\n",
              "      <td>37.452167</td>\n",
              "      <td>0</td>\n",
              "    </tr>\n",
              "    <tr>\n",
              "      <th>3</th>\n",
              "      <td>5.52</td>\n",
              "      <td>R31PU5GNHSGU6C</td>\n",
              "      <td>1.92</td>\n",
              "      <td>2019-07-31T00:24:11</td>\n",
              "      <td>7</td>\n",
              "      <td>126.988375</td>\n",
              "      <td>37.567897</td>\n",
              "      <td>중구</td>\n",
              "      <td>DCT73585</td>\n",
              "      <td>126.991170</td>\n",
              "      <td>37.566416</td>\n",
              "      <td>0</td>\n",
              "    </tr>\n",
              "    <tr>\n",
              "      <th>4</th>\n",
              "      <td>8.60</td>\n",
              "      <td>R41WR6N1VT42DJ</td>\n",
              "      <td>7.10</td>\n",
              "      <td>2019-07-05T00:40:34</td>\n",
              "      <td>7</td>\n",
              "      <td>126.988684</td>\n",
              "      <td>37.566716</td>\n",
              "      <td>중구</td>\n",
              "      <td>DPJ86237</td>\n",
              "      <td>127.006860</td>\n",
              "      <td>37.571164</td>\n",
              "      <td>0</td>\n",
              "    </tr>\n",
              "  </tbody>\n",
              "</table>\n",
              "</div>\n",
              "      <button class=\"colab-df-convert\" onclick=\"convertToInteractive('df-64bdd39f-52e2-438a-884a-cf2b645bdc7e')\"\n",
              "              title=\"Convert this dataframe to an interactive table.\"\n",
              "              style=\"display:none;\">\n",
              "        \n",
              "  <svg xmlns=\"http://www.w3.org/2000/svg\" height=\"24px\"viewBox=\"0 0 24 24\"\n",
              "       width=\"24px\">\n",
              "    <path d=\"M0 0h24v24H0V0z\" fill=\"none\"/>\n",
              "    <path d=\"M18.56 5.44l.94 2.06.94-2.06 2.06-.94-2.06-.94-.94-2.06-.94 2.06-2.06.94zm-11 1L8.5 8.5l.94-2.06 2.06-.94-2.06-.94L8.5 2.5l-.94 2.06-2.06.94zm10 10l.94 2.06.94-2.06 2.06-.94-2.06-.94-.94-2.06-.94 2.06-2.06.94z\"/><path d=\"M17.41 7.96l-1.37-1.37c-.4-.4-.92-.59-1.43-.59-.52 0-1.04.2-1.43.59L10.3 9.45l-7.72 7.72c-.78.78-.78 2.05 0 2.83L4 21.41c.39.39.9.59 1.41.59.51 0 1.02-.2 1.41-.59l7.78-7.78 2.81-2.81c.8-.78.8-2.07 0-2.86zM5.41 20L4 18.59l7.72-7.72 1.47 1.35L5.41 20z\"/>\n",
              "  </svg>\n",
              "      </button>\n",
              "      \n",
              "  <style>\n",
              "    .colab-df-container {\n",
              "      display:flex;\n",
              "      flex-wrap:wrap;\n",
              "      gap: 12px;\n",
              "    }\n",
              "\n",
              "    .colab-df-convert {\n",
              "      background-color: #E8F0FE;\n",
              "      border: none;\n",
              "      border-radius: 50%;\n",
              "      cursor: pointer;\n",
              "      display: none;\n",
              "      fill: #1967D2;\n",
              "      height: 32px;\n",
              "      padding: 0 0 0 0;\n",
              "      width: 32px;\n",
              "    }\n",
              "\n",
              "    .colab-df-convert:hover {\n",
              "      background-color: #E2EBFA;\n",
              "      box-shadow: 0px 1px 2px rgba(60, 64, 67, 0.3), 0px 1px 3px 1px rgba(60, 64, 67, 0.15);\n",
              "      fill: #174EA6;\n",
              "    }\n",
              "\n",
              "    [theme=dark] .colab-df-convert {\n",
              "      background-color: #3B4455;\n",
              "      fill: #D2E3FC;\n",
              "    }\n",
              "\n",
              "    [theme=dark] .colab-df-convert:hover {\n",
              "      background-color: #434B5C;\n",
              "      box-shadow: 0px 1px 3px 1px rgba(0, 0, 0, 0.15);\n",
              "      filter: drop-shadow(0px 1px 2px rgba(0, 0, 0, 0.3));\n",
              "      fill: #FFFFFF;\n",
              "    }\n",
              "  </style>\n",
              "\n",
              "      <script>\n",
              "        const buttonEl =\n",
              "          document.querySelector('#df-64bdd39f-52e2-438a-884a-cf2b645bdc7e button.colab-df-convert');\n",
              "        buttonEl.style.display =\n",
              "          google.colab.kernel.accessAllowed ? 'block' : 'none';\n",
              "\n",
              "        async function convertToInteractive(key) {\n",
              "          const element = document.querySelector('#df-64bdd39f-52e2-438a-884a-cf2b645bdc7e');\n",
              "          const dataTable =\n",
              "            await google.colab.kernel.invokeFunction('convertToInteractive',\n",
              "                                                     [key], {});\n",
              "          if (!dataTable) return;\n",
              "\n",
              "          const docLinkHtml = 'Like what you see? Visit the ' +\n",
              "            '<a target=\"_blank\" href=https://colab.research.google.com/notebooks/data_table.ipynb>data table notebook</a>'\n",
              "            + ' to learn more about interactive tables.';\n",
              "          element.innerHTML = '';\n",
              "          dataTable['output_type'] = 'display_data';\n",
              "          await google.colab.output.renderOutput(dataTable, element);\n",
              "          const docLink = document.createElement('div');\n",
              "          docLink.innerHTML = docLinkHtml;\n",
              "          element.appendChild(docLink);\n",
              "        }\n",
              "      </script>\n",
              "    </div>\n",
              "  </div>\n",
              "  "
            ]
          },
          "metadata": {},
          "execution_count": 14
        }
      ]
    },
    {
      "cell_type": "code",
      "source": [
        "enc = sklearn.preprocessing.OrdinalEncoder(dtype=np.int32)\n",
        "ordinal = enc.fit_transform(np.array(tada_eta['pickup_gu']).reshape(-1,1))\n",
        "tada_eta['pickup_gu'] = ordinal[:,0]\n",
        "tada_eta['distance'] = ((tada_eta['pickup_lat']-tada_eta['driver_lat'])**2 + (tada_eta['pickup_lng']-tada_eta['driver_lng'])**2)*100000\n",
        "tada_eta = tada_eta.drop(['id', 'created_at_kst', 'driver_id'],1)\n",
        "tada_eta.head()"
      ],
      "metadata": {
        "id": "TK3Z-WgPNGBg",
        "colab": {
          "base_uri": "https://localhost:8080/",
          "height": 305
        },
        "outputId": "5111a6df-5f28-4806-a00b-e68771a2ed63"
      },
      "execution_count": 15,
      "outputs": [
        {
          "output_type": "stream",
          "name": "stderr",
          "text": [
            "/usr/local/lib/python3.7/dist-packages/ipykernel_launcher.py:5: FutureWarning: In a future version of pandas all arguments of DataFrame.drop except for the argument 'labels' will be keyword-only\n",
            "  \"\"\"\n"
          ]
        },
        {
          "output_type": "execute_result",
          "data": {
            "text/plain": [
              "     ATA  api_eta  month  pickup_lng  pickup_lat  pickup_gu  driver_lng  \\\n",
              "0  10.60     5.65     12  127.091399   37.624545          8  127.069978   \n",
              "1   9.20     8.60     12  127.023351   37.625564          2  127.026479   \n",
              "2  10.85    10.53     12  126.881154   37.481641          7  126.906225   \n",
              "3   5.52     1.92      7  126.988375   37.567897         23  126.991170   \n",
              "4   8.60     7.10      7  126.988684   37.566716         23  127.006860   \n",
              "\n",
              "   driver_lat  hour    distance  \n",
              "0   37.616472     0   52.400202  \n",
              "1   37.604711     0   44.465889  \n",
              "2   37.452167     0  149.731535  \n",
              "3   37.566416     0    1.000535  \n",
              "4   37.571164     0   35.014797  "
            ],
            "text/html": [
              "\n",
              "  <div id=\"df-b403e04a-3a20-4641-b3e2-9ebeea1c2e33\">\n",
              "    <div class=\"colab-df-container\">\n",
              "      <div>\n",
              "<style scoped>\n",
              "    .dataframe tbody tr th:only-of-type {\n",
              "        vertical-align: middle;\n",
              "    }\n",
              "\n",
              "    .dataframe tbody tr th {\n",
              "        vertical-align: top;\n",
              "    }\n",
              "\n",
              "    .dataframe thead th {\n",
              "        text-align: right;\n",
              "    }\n",
              "</style>\n",
              "<table border=\"1\" class=\"dataframe\">\n",
              "  <thead>\n",
              "    <tr style=\"text-align: right;\">\n",
              "      <th></th>\n",
              "      <th>ATA</th>\n",
              "      <th>api_eta</th>\n",
              "      <th>month</th>\n",
              "      <th>pickup_lng</th>\n",
              "      <th>pickup_lat</th>\n",
              "      <th>pickup_gu</th>\n",
              "      <th>driver_lng</th>\n",
              "      <th>driver_lat</th>\n",
              "      <th>hour</th>\n",
              "      <th>distance</th>\n",
              "    </tr>\n",
              "  </thead>\n",
              "  <tbody>\n",
              "    <tr>\n",
              "      <th>0</th>\n",
              "      <td>10.60</td>\n",
              "      <td>5.65</td>\n",
              "      <td>12</td>\n",
              "      <td>127.091399</td>\n",
              "      <td>37.624545</td>\n",
              "      <td>8</td>\n",
              "      <td>127.069978</td>\n",
              "      <td>37.616472</td>\n",
              "      <td>0</td>\n",
              "      <td>52.400202</td>\n",
              "    </tr>\n",
              "    <tr>\n",
              "      <th>1</th>\n",
              "      <td>9.20</td>\n",
              "      <td>8.60</td>\n",
              "      <td>12</td>\n",
              "      <td>127.023351</td>\n",
              "      <td>37.625564</td>\n",
              "      <td>2</td>\n",
              "      <td>127.026479</td>\n",
              "      <td>37.604711</td>\n",
              "      <td>0</td>\n",
              "      <td>44.465889</td>\n",
              "    </tr>\n",
              "    <tr>\n",
              "      <th>2</th>\n",
              "      <td>10.85</td>\n",
              "      <td>10.53</td>\n",
              "      <td>12</td>\n",
              "      <td>126.881154</td>\n",
              "      <td>37.481641</td>\n",
              "      <td>7</td>\n",
              "      <td>126.906225</td>\n",
              "      <td>37.452167</td>\n",
              "      <td>0</td>\n",
              "      <td>149.731535</td>\n",
              "    </tr>\n",
              "    <tr>\n",
              "      <th>3</th>\n",
              "      <td>5.52</td>\n",
              "      <td>1.92</td>\n",
              "      <td>7</td>\n",
              "      <td>126.988375</td>\n",
              "      <td>37.567897</td>\n",
              "      <td>23</td>\n",
              "      <td>126.991170</td>\n",
              "      <td>37.566416</td>\n",
              "      <td>0</td>\n",
              "      <td>1.000535</td>\n",
              "    </tr>\n",
              "    <tr>\n",
              "      <th>4</th>\n",
              "      <td>8.60</td>\n",
              "      <td>7.10</td>\n",
              "      <td>7</td>\n",
              "      <td>126.988684</td>\n",
              "      <td>37.566716</td>\n",
              "      <td>23</td>\n",
              "      <td>127.006860</td>\n",
              "      <td>37.571164</td>\n",
              "      <td>0</td>\n",
              "      <td>35.014797</td>\n",
              "    </tr>\n",
              "  </tbody>\n",
              "</table>\n",
              "</div>\n",
              "      <button class=\"colab-df-convert\" onclick=\"convertToInteractive('df-b403e04a-3a20-4641-b3e2-9ebeea1c2e33')\"\n",
              "              title=\"Convert this dataframe to an interactive table.\"\n",
              "              style=\"display:none;\">\n",
              "        \n",
              "  <svg xmlns=\"http://www.w3.org/2000/svg\" height=\"24px\"viewBox=\"0 0 24 24\"\n",
              "       width=\"24px\">\n",
              "    <path d=\"M0 0h24v24H0V0z\" fill=\"none\"/>\n",
              "    <path d=\"M18.56 5.44l.94 2.06.94-2.06 2.06-.94-2.06-.94-.94-2.06-.94 2.06-2.06.94zm-11 1L8.5 8.5l.94-2.06 2.06-.94-2.06-.94L8.5 2.5l-.94 2.06-2.06.94zm10 10l.94 2.06.94-2.06 2.06-.94-2.06-.94-.94-2.06-.94 2.06-2.06.94z\"/><path d=\"M17.41 7.96l-1.37-1.37c-.4-.4-.92-.59-1.43-.59-.52 0-1.04.2-1.43.59L10.3 9.45l-7.72 7.72c-.78.78-.78 2.05 0 2.83L4 21.41c.39.39.9.59 1.41.59.51 0 1.02-.2 1.41-.59l7.78-7.78 2.81-2.81c.8-.78.8-2.07 0-2.86zM5.41 20L4 18.59l7.72-7.72 1.47 1.35L5.41 20z\"/>\n",
              "  </svg>\n",
              "      </button>\n",
              "      \n",
              "  <style>\n",
              "    .colab-df-container {\n",
              "      display:flex;\n",
              "      flex-wrap:wrap;\n",
              "      gap: 12px;\n",
              "    }\n",
              "\n",
              "    .colab-df-convert {\n",
              "      background-color: #E8F0FE;\n",
              "      border: none;\n",
              "      border-radius: 50%;\n",
              "      cursor: pointer;\n",
              "      display: none;\n",
              "      fill: #1967D2;\n",
              "      height: 32px;\n",
              "      padding: 0 0 0 0;\n",
              "      width: 32px;\n",
              "    }\n",
              "\n",
              "    .colab-df-convert:hover {\n",
              "      background-color: #E2EBFA;\n",
              "      box-shadow: 0px 1px 2px rgba(60, 64, 67, 0.3), 0px 1px 3px 1px rgba(60, 64, 67, 0.15);\n",
              "      fill: #174EA6;\n",
              "    }\n",
              "\n",
              "    [theme=dark] .colab-df-convert {\n",
              "      background-color: #3B4455;\n",
              "      fill: #D2E3FC;\n",
              "    }\n",
              "\n",
              "    [theme=dark] .colab-df-convert:hover {\n",
              "      background-color: #434B5C;\n",
              "      box-shadow: 0px 1px 3px 1px rgba(0, 0, 0, 0.15);\n",
              "      filter: drop-shadow(0px 1px 2px rgba(0, 0, 0, 0.3));\n",
              "      fill: #FFFFFF;\n",
              "    }\n",
              "  </style>\n",
              "\n",
              "      <script>\n",
              "        const buttonEl =\n",
              "          document.querySelector('#df-b403e04a-3a20-4641-b3e2-9ebeea1c2e33 button.colab-df-convert');\n",
              "        buttonEl.style.display =\n",
              "          google.colab.kernel.accessAllowed ? 'block' : 'none';\n",
              "\n",
              "        async function convertToInteractive(key) {\n",
              "          const element = document.querySelector('#df-b403e04a-3a20-4641-b3e2-9ebeea1c2e33');\n",
              "          const dataTable =\n",
              "            await google.colab.kernel.invokeFunction('convertToInteractive',\n",
              "                                                     [key], {});\n",
              "          if (!dataTable) return;\n",
              "\n",
              "          const docLinkHtml = 'Like what you see? Visit the ' +\n",
              "            '<a target=\"_blank\" href=https://colab.research.google.com/notebooks/data_table.ipynb>data table notebook</a>'\n",
              "            + ' to learn more about interactive tables.';\n",
              "          element.innerHTML = '';\n",
              "          dataTable['output_type'] = 'display_data';\n",
              "          await google.colab.output.renderOutput(dataTable, element);\n",
              "          const docLink = document.createElement('div');\n",
              "          docLink.innerHTML = docLinkHtml;\n",
              "          element.appendChild(docLink);\n",
              "        }\n",
              "      </script>\n",
              "    </div>\n",
              "  </div>\n",
              "  "
            ]
          },
          "metadata": {},
          "execution_count": 15
        }
      ]
    },
    {
      "cell_type": "code",
      "source": [
        "tada_eta = tada_eta.sample(frac=1, random_state=0).reset_index(drop=True)"
      ],
      "metadata": {
        "id": "PBWualjwOdDZ"
      },
      "execution_count": 16,
      "outputs": []
    },
    {
      "cell_type": "code",
      "source": [
        "tada_eta_red = tada_eta.drop(['ATA', 'api_eta', 'month', 'pickup_gu', 'hour', 'distance'], 1)\n",
        "tada_eta_red.head()"
      ],
      "metadata": {
        "colab": {
          "base_uri": "https://localhost:8080/",
          "height": 261
        },
        "id": "GPOo7BJ7Ofo0",
        "outputId": "f2650f6a-8e5d-4de9-c3a0-44133e45cb5c"
      },
      "execution_count": 17,
      "outputs": [
        {
          "output_type": "stream",
          "name": "stderr",
          "text": [
            "/usr/local/lib/python3.7/dist-packages/ipykernel_launcher.py:1: FutureWarning: In a future version of pandas all arguments of DataFrame.drop except for the argument 'labels' will be keyword-only\n",
            "  \"\"\"Entry point for launching an IPython kernel.\n"
          ]
        },
        {
          "output_type": "execute_result",
          "data": {
            "text/plain": [
              "   pickup_lng  pickup_lat  driver_lng  driver_lat\n",
              "0  126.913779   37.549010  126.913082   37.527922\n",
              "1  127.089688   37.501710  127.084503   37.498104\n",
              "2  126.972378   37.569360  126.972541   37.576297\n",
              "3  126.974081   37.519973  127.001186   37.526196\n",
              "4  127.025221   37.524640  127.026035   37.512465"
            ],
            "text/html": [
              "\n",
              "  <div id=\"df-261d0934-84d2-42de-892e-85f425e1f40b\">\n",
              "    <div class=\"colab-df-container\">\n",
              "      <div>\n",
              "<style scoped>\n",
              "    .dataframe tbody tr th:only-of-type {\n",
              "        vertical-align: middle;\n",
              "    }\n",
              "\n",
              "    .dataframe tbody tr th {\n",
              "        vertical-align: top;\n",
              "    }\n",
              "\n",
              "    .dataframe thead th {\n",
              "        text-align: right;\n",
              "    }\n",
              "</style>\n",
              "<table border=\"1\" class=\"dataframe\">\n",
              "  <thead>\n",
              "    <tr style=\"text-align: right;\">\n",
              "      <th></th>\n",
              "      <th>pickup_lng</th>\n",
              "      <th>pickup_lat</th>\n",
              "      <th>driver_lng</th>\n",
              "      <th>driver_lat</th>\n",
              "    </tr>\n",
              "  </thead>\n",
              "  <tbody>\n",
              "    <tr>\n",
              "      <th>0</th>\n",
              "      <td>126.913779</td>\n",
              "      <td>37.549010</td>\n",
              "      <td>126.913082</td>\n",
              "      <td>37.527922</td>\n",
              "    </tr>\n",
              "    <tr>\n",
              "      <th>1</th>\n",
              "      <td>127.089688</td>\n",
              "      <td>37.501710</td>\n",
              "      <td>127.084503</td>\n",
              "      <td>37.498104</td>\n",
              "    </tr>\n",
              "    <tr>\n",
              "      <th>2</th>\n",
              "      <td>126.972378</td>\n",
              "      <td>37.569360</td>\n",
              "      <td>126.972541</td>\n",
              "      <td>37.576297</td>\n",
              "    </tr>\n",
              "    <tr>\n",
              "      <th>3</th>\n",
              "      <td>126.974081</td>\n",
              "      <td>37.519973</td>\n",
              "      <td>127.001186</td>\n",
              "      <td>37.526196</td>\n",
              "    </tr>\n",
              "    <tr>\n",
              "      <th>4</th>\n",
              "      <td>127.025221</td>\n",
              "      <td>37.524640</td>\n",
              "      <td>127.026035</td>\n",
              "      <td>37.512465</td>\n",
              "    </tr>\n",
              "  </tbody>\n",
              "</table>\n",
              "</div>\n",
              "      <button class=\"colab-df-convert\" onclick=\"convertToInteractive('df-261d0934-84d2-42de-892e-85f425e1f40b')\"\n",
              "              title=\"Convert this dataframe to an interactive table.\"\n",
              "              style=\"display:none;\">\n",
              "        \n",
              "  <svg xmlns=\"http://www.w3.org/2000/svg\" height=\"24px\"viewBox=\"0 0 24 24\"\n",
              "       width=\"24px\">\n",
              "    <path d=\"M0 0h24v24H0V0z\" fill=\"none\"/>\n",
              "    <path d=\"M18.56 5.44l.94 2.06.94-2.06 2.06-.94-2.06-.94-.94-2.06-.94 2.06-2.06.94zm-11 1L8.5 8.5l.94-2.06 2.06-.94-2.06-.94L8.5 2.5l-.94 2.06-2.06.94zm10 10l.94 2.06.94-2.06 2.06-.94-2.06-.94-.94-2.06-.94 2.06-2.06.94z\"/><path d=\"M17.41 7.96l-1.37-1.37c-.4-.4-.92-.59-1.43-.59-.52 0-1.04.2-1.43.59L10.3 9.45l-7.72 7.72c-.78.78-.78 2.05 0 2.83L4 21.41c.39.39.9.59 1.41.59.51 0 1.02-.2 1.41-.59l7.78-7.78 2.81-2.81c.8-.78.8-2.07 0-2.86zM5.41 20L4 18.59l7.72-7.72 1.47 1.35L5.41 20z\"/>\n",
              "  </svg>\n",
              "      </button>\n",
              "      \n",
              "  <style>\n",
              "    .colab-df-container {\n",
              "      display:flex;\n",
              "      flex-wrap:wrap;\n",
              "      gap: 12px;\n",
              "    }\n",
              "\n",
              "    .colab-df-convert {\n",
              "      background-color: #E8F0FE;\n",
              "      border: none;\n",
              "      border-radius: 50%;\n",
              "      cursor: pointer;\n",
              "      display: none;\n",
              "      fill: #1967D2;\n",
              "      height: 32px;\n",
              "      padding: 0 0 0 0;\n",
              "      width: 32px;\n",
              "    }\n",
              "\n",
              "    .colab-df-convert:hover {\n",
              "      background-color: #E2EBFA;\n",
              "      box-shadow: 0px 1px 2px rgba(60, 64, 67, 0.3), 0px 1px 3px 1px rgba(60, 64, 67, 0.15);\n",
              "      fill: #174EA6;\n",
              "    }\n",
              "\n",
              "    [theme=dark] .colab-df-convert {\n",
              "      background-color: #3B4455;\n",
              "      fill: #D2E3FC;\n",
              "    }\n",
              "\n",
              "    [theme=dark] .colab-df-convert:hover {\n",
              "      background-color: #434B5C;\n",
              "      box-shadow: 0px 1px 3px 1px rgba(0, 0, 0, 0.15);\n",
              "      filter: drop-shadow(0px 1px 2px rgba(0, 0, 0, 0.3));\n",
              "      fill: #FFFFFF;\n",
              "    }\n",
              "  </style>\n",
              "\n",
              "      <script>\n",
              "        const buttonEl =\n",
              "          document.querySelector('#df-261d0934-84d2-42de-892e-85f425e1f40b button.colab-df-convert');\n",
              "        buttonEl.style.display =\n",
              "          google.colab.kernel.accessAllowed ? 'block' : 'none';\n",
              "\n",
              "        async function convertToInteractive(key) {\n",
              "          const element = document.querySelector('#df-261d0934-84d2-42de-892e-85f425e1f40b');\n",
              "          const dataTable =\n",
              "            await google.colab.kernel.invokeFunction('convertToInteractive',\n",
              "                                                     [key], {});\n",
              "          if (!dataTable) return;\n",
              "\n",
              "          const docLinkHtml = 'Like what you see? Visit the ' +\n",
              "            '<a target=\"_blank\" href=https://colab.research.google.com/notebooks/data_table.ipynb>data table notebook</a>'\n",
              "            + ' to learn more about interactive tables.';\n",
              "          element.innerHTML = '';\n",
              "          dataTable['output_type'] = 'display_data';\n",
              "          await google.colab.output.renderOutput(dataTable, element);\n",
              "          const docLink = document.createElement('div');\n",
              "          docLink.innerHTML = docLinkHtml;\n",
              "          element.appendChild(docLink);\n",
              "        }\n",
              "      </script>\n",
              "    </div>\n",
              "  </div>\n",
              "  "
            ]
          },
          "metadata": {},
          "execution_count": 17
        }
      ]
    },
    {
      "cell_type": "code",
      "source": [
        "tada_eta_red_normalized = StandardScaler().fit(tada_eta_red).transform(tada_eta_red)\n",
        "pca = PCA(n_components = 2).fit(tada_eta_red_normalized)\n",
        "tada_eta_red_pca = pca.transform(tada_eta_red_normalized)\n",
        "print(tada_eta_red.shape, tada_eta_red_pca.shape)"
      ],
      "metadata": {
        "colab": {
          "base_uri": "https://localhost:8080/"
        },
        "id": "CfWBs8c3OhYy",
        "outputId": "cdeec093-c9d1-495d-dc88-fbd07273e406"
      },
      "execution_count": 18,
      "outputs": [
        {
          "output_type": "stream",
          "name": "stdout",
          "text": [
            "(13916, 4) (13916, 2)\n"
          ]
        }
      ]
    },
    {
      "cell_type": "code",
      "source": [
        "pickup_gu = np.array(tada_eta.drop(['ATA', 'pickup_lng', 'pickup_lat', 'driver_lng', 'driver_lat'],1))\n",
        "print(pickup_gu.shape)\n",
        "print(pickup_gu)"
      ],
      "metadata": {
        "colab": {
          "base_uri": "https://localhost:8080/"
        },
        "id": "GvjonnfKOjN8",
        "outputId": "ad5803b6-086d-42df-d818-8c3890889995"
      },
      "execution_count": 19,
      "outputs": [
        {
          "output_type": "stream",
          "name": "stdout",
          "text": [
            "(13916, 5)\n",
            "[[ 8.32       12.         12.         22.         44.52197739]\n",
            " [ 3.05       12.         17.         11.          3.98906617]\n",
            " [ 5.          7.         22.         19.          4.81469879]\n",
            " ...\n",
            " [ 6.85       12.         19.         18.         65.93693906]\n",
            " [ 1.42        7.          0.         20.          0.55455545]\n",
            " [ 4.38       12.         14.          7.          3.75100634]]\n"
          ]
        },
        {
          "output_type": "stream",
          "name": "stderr",
          "text": [
            "/usr/local/lib/python3.7/dist-packages/ipykernel_launcher.py:1: FutureWarning: In a future version of pandas all arguments of DataFrame.drop except for the argument 'labels' will be keyword-only\n",
            "  \"\"\"Entry point for launching an IPython kernel.\n"
          ]
        }
      ]
    },
    {
      "cell_type": "code",
      "source": [
        "new_feature = np.concatenate([tada_eta_red_pca, pickup_gu], 1)\n",
        "new_label = np.array(tada_eta['ATA'])\n",
        "print(new_feature.shape, new_label.shape)\n",
        "#new_tada_eta = np.concatenate([new_label, new_feature], 1)"
      ],
      "metadata": {
        "colab": {
          "base_uri": "https://localhost:8080/"
        },
        "id": "_YXTTyCrOv8e",
        "outputId": "6f43673a-aba7-4bc5-845f-49fca5ddd6e0"
      },
      "execution_count": 20,
      "outputs": [
        {
          "output_type": "stream",
          "name": "stdout",
          "text": [
            "(13916, 7) (13916,)\n"
          ]
        }
      ]
    },
    {
      "cell_type": "code",
      "source": [
        "#train = new_tada_eta[:12000]\n",
        "#test = new_tada_eta[12000:]"
      ],
      "metadata": {
        "id": "gJHDguggOypv"
      },
      "execution_count": 21,
      "outputs": []
    },
    {
      "cell_type": "code",
      "source": [
        "x_train = new_feature[:12000]\n",
        "y_train = new_label[:12000]\n",
        "x_test = new_feature[12000:]\n",
        "y_test = new_label[12000:]"
      ],
      "metadata": {
        "id": "pnVTSBjKOzzD"
      },
      "execution_count": 22,
      "outputs": []
    },
    {
      "cell_type": "code",
      "source": [
        "X = np.concatenate((x_train,x_test), axis = 0)\n",
        "y = np.concatenate((y_train, y_test), axis = 0)"
      ],
      "metadata": {
        "id": "vgcpFdL6O1Um"
      },
      "execution_count": 23,
      "outputs": []
    },
    {
      "cell_type": "code",
      "source": [
        "pds = PredefinedSplit(test_fold=[-1]*len(x_train) + [0]*len(x_test))"
      ],
      "metadata": {
        "id": "3MLqm86PO249"
      },
      "execution_count": 24,
      "outputs": []
    },
    {
      "cell_type": "code",
      "source": [
        "param_grid = {'max_iter':[100, 200, 300],\n",
        "             'max_depth': [2,3,4,5],\n",
        "             'min_samples_leaf': [1, 20, 100],\n",
        "             'learning_rate': [0.01, 0.02, 0.05],\n",
        "             'loss': ['least_squares']}"
      ],
      "metadata": {
        "id": "pgDJmoNiO4mS"
      },
      "execution_count": 25,
      "outputs": []
    },
    {
      "cell_type": "code",
      "source": [
        "grid_search = GridSearchCV(estimator = ensemble.HistGradientBoostingRegressor(random_state=0),\n",
        "                          param_grid = param_grid,\n",
        "                          cv = pds, n_jobs = -1, scoring = 'neg_mean_squared_error', verbose = 2)"
      ],
      "metadata": {
        "id": "nXmTxzH-O6TT"
      },
      "execution_count": 26,
      "outputs": []
    },
    {
      "cell_type": "code",
      "source": [
        "grid_search.fit(X,y)\n",
        "print(grid_search.best_params_)"
      ],
      "metadata": {
        "colab": {
          "base_uri": "https://localhost:8080/"
        },
        "id": "90QdCluzO7-L",
        "outputId": "1c796090-20da-421a-c50e-7279e06174d1"
      },
      "execution_count": 27,
      "outputs": [
        {
          "output_type": "stream",
          "name": "stdout",
          "text": [
            "Fitting 1 folds for each of 108 candidates, totalling 108 fits\n"
          ]
        },
        {
          "output_type": "stream",
          "name": "stderr",
          "text": [
            "/usr/local/lib/python3.7/dist-packages/sklearn/ensemble/_hist_gradient_boosting/gradient_boosting.py:1306: FutureWarning: The loss 'least_squares' was deprecated in v1.0 and will be removed in version 1.2. Use 'squared_error' which is equivalent.\n",
            "  FutureWarning,\n"
          ]
        },
        {
          "output_type": "stream",
          "name": "stdout",
          "text": [
            "{'learning_rate': 0.05, 'loss': 'least_squares', 'max_depth': 3, 'max_iter': 200, 'min_samples_leaf': 100}\n"
          ]
        }
      ]
    },
    {
      "cell_type": "code",
      "source": [
        "params = {'max_iter':200,\n",
        "         'max_depth':3,\n",
        "         'min_samples_leaf':100,\n",
        "         'learning_rate':0.05,\n",
        "         'loss':'least_squares'}"
      ],
      "metadata": {
        "id": "trHZxApLO9uq"
      },
      "execution_count": 28,
      "outputs": []
    },
    {
      "cell_type": "code",
      "source": [
        "reg = ensemble.HistGradientBoostingRegressor(**params, random_state=0)\n",
        "reg.fit(x_train, y_train)\n",
        "\n",
        "mse = mean_squared_error(y_test, reg.predict(x_test))\n",
        "print(\"The mean squared error (MSE) on test set: {:.4f}\".format(mse))\n",
        "print(\"The initial error of API ETA on test set: {:.4f}\".format(mean_squared_error(y_test, x_test[:,0]) ))"
      ],
      "metadata": {
        "id": "GaUw9si0PJmS",
        "outputId": "8ed4ea89-62cd-47b8-f45f-681ceec71f1b",
        "colab": {
          "base_uri": "https://localhost:8080/"
        }
      },
      "execution_count": 29,
      "outputs": [
        {
          "output_type": "stream",
          "name": "stderr",
          "text": [
            "/usr/local/lib/python3.7/dist-packages/sklearn/ensemble/_hist_gradient_boosting/gradient_boosting.py:1306: FutureWarning: The loss 'least_squares' was deprecated in v1.0 and will be removed in version 1.2. Use 'squared_error' which is equivalent.\n",
            "  FutureWarning,\n"
          ]
        },
        {
          "output_type": "stream",
          "name": "stdout",
          "text": [
            "The mean squared error (MSE) on test set: 8.1813\n",
            "The initial error of API ETA on test set: 94.1958\n"
          ]
        }
      ]
    },
    {
      "cell_type": "code",
      "source": [
        ""
      ],
      "metadata": {
        "id": "vaQoejurPLCO"
      },
      "execution_count": null,
      "outputs": []
    }
  ]
}