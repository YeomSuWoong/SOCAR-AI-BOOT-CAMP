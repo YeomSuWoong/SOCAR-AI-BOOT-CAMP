{
  "nbformat": 4,
  "nbformat_minor": 0,
  "metadata": {
    "colab": {
      "name": "Assignment_2_.ipynb",
      "provenance": [],
      "collapsed_sections": [],
      "authorship_tag": "ABX9TyMy+aCRnMQaERp5o+q3CiCT",
      "include_colab_link": true
    },
    "kernelspec": {
      "name": "python3",
      "display_name": "Python 3"
    },
    "language_info": {
      "name": "python"
    }
  },
  "cells": [
    {
      "cell_type": "markdown",
      "metadata": {
        "id": "view-in-github",
        "colab_type": "text"
      },
      "source": [
        "<a href=\"https://colab.research.google.com/github/YeomSuWoong/SOCAR-AI-BOOT-CAMP/blob/main/Assignment_2_.ipynb\" target=\"_parent\"><img src=\"https://colab.research.google.com/assets/colab-badge.svg\" alt=\"Open In Colab\"/></a>"
      ]
    },
    {
      "cell_type": "code",
      "source": [
        "from google.colab import drive\n",
        "drive.mount('/content/drive')"
      ],
      "metadata": {
        "id": "Ex0T2HMIb03H",
        "colab": {
          "base_uri": "https://localhost:8080/"
        },
        "outputId": "a49983bf-7d1b-4b1d-cb10-3b3553c851bd"
      },
      "execution_count": null,
      "outputs": [
        {
          "output_type": "stream",
          "name": "stdout",
          "text": [
            "Mounted at /content/drive\n"
          ]
        }
      ]
    },
    {
      "cell_type": "code",
      "source": [
        "import os\n",
        "import numpy as np\n",
        "\n",
        "import torch\n",
        "from torch import nn\n",
        "from torch.utils.data import Dataset, DataLoader\n",
        "\n",
        "from torchvision import datasets, transforms\n",
        "\n",
        "import matplotlib.pyplot as plt"
      ],
      "metadata": {
        "id": "Fj3svxeaLhkD"
      },
      "execution_count": null,
      "outputs": []
    },
    {
      "cell_type": "code",
      "source": [
        "device = 'cuda' if torch.cuda.is_available() else 'cpu'\n",
        "device"
      ],
      "metadata": {
        "colab": {
          "base_uri": "https://localhost:8080/",
          "height": 35
        },
        "id": "TlPOIpLNLrKY",
        "outputId": "f71ade06-2c5b-4ec0-ba91-556d1019e7ab"
      },
      "execution_count": null,
      "outputs": [
        {
          "output_type": "execute_result",
          "data": {
            "text/plain": [
              "'cpu'"
            ],
            "application/vnd.google.colaboratory.intrinsic+json": {
              "type": "string"
            }
          },
          "metadata": {},
          "execution_count": 3
        }
      ]
    },
    {
      "cell_type": "code",
      "source": [
        "root = os.path.join(os.getcwd(), 'drive', 'MyDrive', 'Colab Notebooks', 'data')\n",
        "root"
      ],
      "metadata": {
        "colab": {
          "base_uri": "https://localhost:8080/",
          "height": 35
        },
        "id": "JQnhxFtnLtPz",
        "outputId": "738d9304-34b8-47f9-8921-2d57c4c55e40"
      },
      "execution_count": null,
      "outputs": [
        {
          "output_type": "execute_result",
          "data": {
            "text/plain": [
              "'/content/drive/MyDrive/Colab Notebooks/data'"
            ],
            "application/vnd.google.colaboratory.intrinsic+json": {
              "type": "string"
            }
          },
          "metadata": {},
          "execution_count": 4
        }
      ]
    },
    {
      "cell_type": "code",
      "source": [
        "mnist_train = datasets.MNIST(\n",
        "    root = root,\n",
        "    train = True,\n",
        "    download = True,\n",
        "    transform = transforms.ToTensor()\n",
        ")\n",
        "mnist_test = datasets.MNIST(\n",
        "    root = root,\n",
        "    train = False,\n",
        "    download = True,\n",
        "    transform = transforms.ToTensor()\n",
        ")"
      ],
      "metadata": {
        "id": "OnFiQwJKLuoF"
      },
      "execution_count": null,
      "outputs": []
    },
    {
      "cell_type": "code",
      "source": [
        "fmnist_train = datasets.FashionMNIST(\n",
        "    root = root,\n",
        "    train = True,\n",
        "    download = True,\n",
        "    transform = transforms.ToTensor()\n",
        ")\n",
        "fmnist_test = datasets.FashionMNIST(\n",
        "    root = root,\n",
        "    train = False,\n",
        "    download = True,\n",
        "    transform = transforms.ToTensor()\n",
        ")"
      ],
      "metadata": {
        "id": "mFiJgJ-_LwfX"
      },
      "execution_count": null,
      "outputs": []
    },
    {
      "cell_type": "code",
      "source": [
        "class mnist_dataset(Dataset):\n",
        "  def __init__(self, data, targets, transform=None, target_transform=None):\n",
        "    super().__init__()\n",
        "\n",
        "    self.data = data\n",
        "    self.targets = targets\n",
        "    self.transform = transform\n",
        "    self.target_transform = target_transform\n",
        "    pass\n",
        "\n",
        "  def __len__(self):\n",
        "    return len(self.data)\n",
        "\n",
        "  def __getitem__(self, idx):\n",
        "    x, y = self.data[idx], self.targets[idx]\n",
        "\n",
        "    if self.transform:\n",
        "      x = self.transform(x)\n",
        "    if self.target_transform:\n",
        "      y = self.target_transform(y)\n",
        "\n",
        "    return x, y"
      ],
      "metadata": {
        "id": "QG6qmTAALyUW"
      },
      "execution_count": null,
      "outputs": []
    },
    {
      "cell_type": "code",
      "source": [
        "def split_train_valid(dataset, valid_ratio=0.1):\n",
        "  n_valid = int(len(dataset) * valid_ratio)\n",
        "  \n",
        "  train_data = dataset.data[:-n_valid].numpy()\n",
        "  valid_data = dataset.data[-n_valid:].numpy()\n",
        "  train_targets = dataset.targets[:-n_valid]\n",
        "  valid_targets = dataset.targets[-n_valid:]\n",
        "\n",
        "  train = mnist_dataset(data=train_data, targets=train_targets,\n",
        "                        transform=dataset.transform,\n",
        "                        target_transform=dataset.target_transform)\n",
        "  valid = mnist_dataset(data=valid_data, targets=valid_targets,\n",
        "                        transform=dataset.transform,\n",
        "                        target_transform=dataset.target_transform)\n",
        "\n",
        "  return train, valid"
      ],
      "metadata": {
        "id": "dye67Ew8L06w"
      },
      "execution_count": null,
      "outputs": []
    },
    {
      "cell_type": "code",
      "source": [
        "mnist_train, mnist_valid = split_train_valid(dataset=mnist_train)\n",
        "fmnist_train, fmnist_valid = split_train_valid(dataset=fmnist_train)"
      ],
      "metadata": {
        "id": "Q5cZROuPL2Vs"
      },
      "execution_count": null,
      "outputs": []
    },
    {
      "cell_type": "code",
      "source": [
        "mnists = {}\n",
        "mnists[\"mnist\"] = {\"train\": mnist_train, \"valid\": mnist_valid, \"test\": mnist_test}\n",
        "mnists[\"fmnist\"] = {\"train\": fmnist_train, \"valid\": fmnist_valid, \"test\": fmnist_test}\n",
        "\n",
        "for k in mnists.keys():\n",
        "  print(f\"Length of {k}: train - {len(mnists[k]['train'])}, valid - {len(mnists[k]['valid'])}, test - {len(mnists[k]['test'])}.\")"
      ],
      "metadata": {
        "colab": {
          "base_uri": "https://localhost:8080/"
        },
        "id": "rYo0tcGFL3tM",
        "outputId": "0ef9a2f3-2ffe-4856-dea7-875a67566e40"
      },
      "execution_count": null,
      "outputs": [
        {
          "output_type": "stream",
          "name": "stdout",
          "text": [
            "Length of mnist: train - 54000, valid - 6000, test - 10000.\n",
            "Length of fmnist: train - 54000, valid - 6000, test - 10000.\n"
          ]
        }
      ]
    },
    {
      "cell_type": "code",
      "source": [
        "loaders = {}\n",
        "for k in mnists.keys():\n",
        "  loaders[k] = {s: DataLoader(dataset=mnists[k][s], batch_size=512 if k == \"emnist\" else 64, shuffle= s == \"train\", drop_last=True) for s in [\"train\", \"valid\", \"test\"]}"
      ],
      "metadata": {
        "id": "8Pr1vtsFL5Gi"
      },
      "execution_count": null,
      "outputs": []
    },
    {
      "cell_type": "code",
      "source": [
        "class LionMNISTDropoutBNClassifier(nn.Module):\n",
        "  def __init__(self, n_class=10):\n",
        "    super().__init__()\n",
        "\n",
        "    self.model = nn.Sequential(\n",
        "        nn.Flatten(),\n",
        "        nn.Linear(28 * 28, 392),\n",
        "        nn.BatchNorm1d(392),\n",
        "        nn.Dropout(p=0.4),\n",
        "        nn.ReLU(),\n",
        "        nn.Linear(392, 196),\n",
        "        nn.BatchNorm1d(196),\n",
        "        nn.Dropout(p=0.3),\n",
        "        nn.ReLU(),\n",
        "        nn.Linear(196, 98),\n",
        "        nn.BatchNorm1d(98),\n",
        "        nn.Dropout(p=0.1),\n",
        "        nn.ReLU(),\n",
        "        nn.Linear(98, n_class),\n",
        "    )\n",
        "\n",
        "  def forward(self, x):\n",
        "    return self.model(x)"
      ],
      "metadata": {
        "id": "utlqh_IvL7S3"
      },
      "execution_count": null,
      "outputs": []
    },
    {
      "cell_type": "code",
      "source": [
        "class Trainer(nn.Module):\n",
        "  def __init__(self, model_class, loaders, n_class=10, opt=\"sgd\", lr=0.001, has_scheduler=False, device=\"cpu\"):\n",
        "    super().__init__()\n",
        "\n",
        "    self.model = model_class(n_class=n_class)\n",
        "    self.loss = nn.CrossEntropyLoss()\n",
        "    \n",
        "    self.train_loader = loaders[\"train\"]\n",
        "    self.valid_loader = loaders[\"valid\"]\n",
        "    self.test_loader = loaders[\"test\"]\n",
        "\n",
        "    self._get_optimizer(opt=opt.lower(), lr=lr)\n",
        "    self.has_scheduler = has_scheduler\n",
        "    if self.has_scheduler:\n",
        "      self._get_scheduler()\n",
        "\n",
        "    self.device = device\n",
        "    pass\n",
        "\n",
        "  def _get_optimizer(self, opt, lr=0.001):\n",
        "    if opt == \"sgd\":\n",
        "      self.optimizer = torch.optim.SGD(params=self.model.parameters(), lr=lr)\n",
        "    elif opt == \"adam\":\n",
        "      self.optimizer = torch.optim.Adam(params=self.model.parameters(), lr=lr)\n",
        "    elif opt == 'rmsprop':\n",
        "      self.optimizer = torch.optim.RMSprop(params=self.model.parameters(), lr=lr)\n",
        "    elif opt == 'adagrad':\n",
        "      self.optimizer = torch.optim.Adagrad(params=self.model.parameters(), lr=lr)\n",
        "    elif opt == 'momentum':\n",
        "      self.optimizer = torch.optim.SGD(params=self.model.parameters(), lr=lr, momentum=0.95)\n",
        "    elif opt == 'nadam':\n",
        "      self.optimizer = torch.optim.NAdam(params=self.model.parameters(), lr=lr)\n",
        "    elif opt == 'radam':\n",
        "      self.optimizer = torch.optim.RAdam(params=self.model.parameters(), lr=lr)\n",
        "    elif opt == 'adamw':\n",
        "      self.optimizer = torch.optim.AdamW(params=self.model.parameters(), lr=lr)\n",
        "    elif opt == 'sparseadam':\n",
        "      self.optimizer = torch.optim.SparseAdam(params=self.model.parameters(), lr=lr)\n",
        "    elif opt == 'adamax':\n",
        "      self.optimizer = torch.optim.Adamax(params=self.model.parameters(), lr=lr)\n",
        "    else:\n",
        "      raise ValueError(f\"optimizer {opt} is not supproted\")\n",
        "\n",
        "  def _get_scheduler(self):\n",
        "    self.scheduler = torch.optim.lr_scheduler.StepLR(optimizer=self.optimizer, step_size=5, gamma=0.5, verbose=True)\n",
        "\n",
        "  def train(self, max_epochs=10):\n",
        "    print(\"===== Train Start =====\")\n",
        "    history = {\"train_loss\": [], \"train_acc\": [], \"valid_loss\": [], \"valid_acc\": []}\n",
        "    for e in range(max_epochs):\n",
        "      train_loss, train_acc = self._train_epoch()\n",
        "      valid_loss, valid_acc = self._valid_epoch()\n",
        "\n",
        "      history[\"train_loss\"].append(train_loss)\n",
        "      history[\"train_acc\"].append(train_acc)\n",
        "      history[\"valid_loss\"].append(valid_loss)\n",
        "      history[\"valid_acc\"].append(valid_acc)\n",
        "\n",
        "      if self.has_scheduler:\n",
        "        self.scheduler.step()\n",
        "\n",
        "      if e % 5 == 0:\n",
        "        print(f\"Epoch: {e}, train loss: {train_loss:>6f}, train acc: {train_acc:>3f}, valid loss: {valid_loss:>6f}, valid acc: {valid_acc:>3f}\")\n",
        "\n",
        "    self.plot_history(history)\n",
        "\n",
        "  def _train_epoch(self):\n",
        "    epoch_loss, epoch_acc = 0, 0\n",
        "    self.model.train()\n",
        "    for (x, y) in self.train_loader:\n",
        "      x = x.to(self.device)\n",
        "      y = y.to(self.device)\n",
        "\n",
        "      y_hat = self.model(x)\n",
        "      loss = self.loss(y_hat, y)\n",
        "\n",
        "      self.optimizer.zero_grad()\n",
        "      loss.backward()\n",
        "      self.optimizer.step()\n",
        "\n",
        "      epoch_loss += loss.to(\"cpu\").item()\n",
        "      epoch_acc += (y_hat.argmax(1) == y).type(torch.float).to(\"cpu\").mean().item()\n",
        "\n",
        "    epoch_loss /= len(self.train_loader)\n",
        "    epoch_acc /= len(self.train_loader)\n",
        "\n",
        "    return epoch_loss, epoch_acc\n",
        "  \n",
        "  def _valid_epoch(self):\n",
        "    epoch_loss, epoch_acc = 0, 0\n",
        "    self.model.eval()\n",
        "    with torch.no_grad():\n",
        "      for (x, y) in self.valid_loader:\n",
        "        x = x.to(self.device)\n",
        "        y = y.to(self.device)\n",
        "\n",
        "        y_hat = self.model(x)\n",
        "        loss = self.loss(y_hat, y)\n",
        "\n",
        "        epoch_loss += loss.to(\"cpu\").item()\n",
        "        epoch_acc += (y_hat.argmax(1) == y).type(torch.float).to(\"cpu\").mean().item()\n",
        "\n",
        "    epoch_loss /= len(self.valid_loader)\n",
        "    epoch_acc /= len(self.valid_loader)\n",
        "\n",
        "    return epoch_loss, epoch_acc\n",
        "\n",
        "  def plot_history(self, history):\n",
        "    fig = plt.figure(figsize=(20, 10))\n",
        "\n",
        "    ax = fig.add_subplot(1, 2, 1)\n",
        "    ax.plot(history[\"train_loss\"], color=\"red\", label=\"train loss\")\n",
        "    ax.plot(history[\"valid_loss\"], color=\"blue\", label=\"valid loss\")\n",
        "    ax.set_title(\"Loss\")\n",
        "    ax.legend()\n",
        "\n",
        "    ax = fig.add_subplot(1, 2, 2)\n",
        "    ax.plot(history[\"train_acc\"], color=\"red\", label=\"train acc\")\n",
        "    ax.plot(history[\"valid_acc\"], color=\"blue\", label=\"valid acc\")\n",
        "    ax.set_title(\"Acc\")\n",
        "    ax.legend()\n",
        "\n",
        "    fig.show()\n",
        "\n",
        "  def test(self):\n",
        "    print(\"===== Test Start =====\")\n",
        "    epoch_loss, epoch_acc = 0, 0\n",
        "    self.model.eval()\n",
        "    with torch.no_grad():\n",
        "      for (x, y) in self.test_loader:\n",
        "        x = x.to(self.device)\n",
        "        y = y.to(self.device)\n",
        "\n",
        "        y_hat = self.model(x)\n",
        "        loss = self.loss(y_hat, y)\n",
        "\n",
        "        epoch_loss += loss.to(\"cpu\").item()\n",
        "        epoch_acc += (y_hat.argmax(1) == y).type(torch.float).to(\"cpu\").mean().item()\n",
        "\n",
        "    epoch_loss /= len(self.test_loader)\n",
        "    epoch_acc /= len(self.test_loader)\n",
        "\n",
        "    print(f\"Test loss: {epoch_loss:>6f}, Test acc: {epoch_acc:>3f}\")"
      ],
      "metadata": {
        "id": "0cFpHgx7L86E"
      },
      "execution_count": null,
      "outputs": []
    },
    {
      "cell_type": "code",
      "source": [
        "trainer = Trainer(model_class=LionMNISTDropoutBNClassifier, loaders=loaders[\"fmnist\"], n_class=10, opt=\"adamw\", lr=0.0018, device=device).to(device)\n",
        "trainer.train(max_epochs=30)\n",
        "trainer.test()"
      ],
      "metadata": {
        "colab": {
          "base_uri": "https://localhost:8080/",
          "height": 763
        },
        "id": "GgH18-4LL-2_",
        "outputId": "1cfcc2fa-0a30-4633-cc03-4135d438322f"
      },
      "execution_count": null,
      "outputs": [
        {
          "output_type": "stream",
          "name": "stdout",
          "text": [
            "===== Train Start =====\n",
            "Epoch: 0, train loss: 0.546069, train acc: 0.807421, valid loss: 0.395272, valid acc: 0.855007\n",
            "Epoch: 5, train loss: 0.333116, train acc: 0.877817, valid loss: 0.332255, valid acc: 0.875840\n",
            "Epoch: 10, train loss: 0.288560, train acc: 0.893201, valid loss: 0.293783, valid acc: 0.891801\n",
            "Epoch: 15, train loss: 0.260290, train acc: 0.902821, valid loss: 0.288647, valid acc: 0.894153\n",
            "Epoch: 20, train loss: 0.236385, train acc: 0.911477, valid loss: 0.287135, valid acc: 0.896337\n",
            "Epoch: 25, train loss: 0.221642, train acc: 0.916908, valid loss: 0.290164, valid acc: 0.898185\n",
            "===== Test Start =====\n",
            "Test loss: 0.299638, Test acc: 0.894231\n"
          ]
        },
        {
          "output_type": "display_data",
          "data": {
            "text/plain": [
              "<Figure size 1440x720 with 2 Axes>"
            ],
            "image/png": "[encoded data removed]"
          },
          "metadata": {
            "needs_background": "light"
          }
        }
      ]
    },
    {
      "cell_type": "code",
      "source": [
        "trainer = Trainer(model_class=LionMNISTDropoutBNClassifier, loaders=loaders[\"mnist\"], n_class=10, opt=\"adamw\", lr=0.001, has_scheduler=True, device=device).to(device)\n",
        "trainer.train(max_epochs=30)\n",
        "trainer.test()"
      ],
      "metadata": {
        "colab": {
          "base_uri": "https://localhost:8080/",
          "height": 1000
        },
        "id": "GIfv-0E1MWek",
        "outputId": "7257aadf-69ef-44c9-83ca-2b912b0d4bb7"
      },
      "execution_count": null,
      "outputs": [
        {
          "output_type": "stream",
          "name": "stdout",
          "text": [
            "Adjusting learning rate of group 0 to 1.0000e-03.\n",
            "===== Train Start =====\n",
            "Adjusting learning rate of group 0 to 1.0000e-03.\n",
            "Epoch: 0, train loss: 0.328246, train acc: 0.908085, valid loss: 0.094766, valid acc: 0.970262\n",
            "Adjusting learning rate of group 0 to 1.0000e-03.\n",
            "Adjusting learning rate of group 0 to 1.0000e-03.\n",
            "Adjusting learning rate of group 0 to 1.0000e-03.\n",
            "Adjusting learning rate of group 0 to 5.0000e-04.\n",
            "Adjusting learning rate of group 0 to 5.0000e-04.\n",
            "Epoch: 5, train loss: 0.075862, train acc: 0.975923, valid loss: 0.051973, valid acc: 0.985551\n",
            "Adjusting learning rate of group 0 to 5.0000e-04.\n",
            "Adjusting learning rate of group 0 to 5.0000e-04.\n",
            "Adjusting learning rate of group 0 to 5.0000e-04.\n",
            "Adjusting learning rate of group 0 to 2.5000e-04.\n",
            "Adjusting learning rate of group 0 to 2.5000e-04.\n",
            "Epoch: 10, train loss: 0.047052, train acc: 0.984968, valid loss: 0.047866, valid acc: 0.987567\n",
            "Adjusting learning rate of group 0 to 2.5000e-04.\n",
            "Adjusting learning rate of group 0 to 2.5000e-04.\n",
            "Adjusting learning rate of group 0 to 2.5000e-04.\n",
            "Adjusting learning rate of group 0 to 1.2500e-04.\n",
            "Adjusting learning rate of group 0 to 1.2500e-04.\n",
            "Epoch: 15, train loss: 0.035266, train acc: 0.988545, valid loss: 0.046816, valid acc: 0.987231\n",
            "Adjusting learning rate of group 0 to 1.2500e-04.\n",
            "Adjusting learning rate of group 0 to 1.2500e-04.\n",
            "Adjusting learning rate of group 0 to 1.2500e-04.\n",
            "Adjusting learning rate of group 0 to 6.2500e-05.\n",
            "Adjusting learning rate of group 0 to 6.2500e-05.\n",
            "Epoch: 20, train loss: 0.028610, train acc: 0.990584, valid loss: 0.048312, valid acc: 0.988239\n",
            "Adjusting learning rate of group 0 to 6.2500e-05.\n",
            "Adjusting learning rate of group 0 to 6.2500e-05.\n",
            "Adjusting learning rate of group 0 to 6.2500e-05.\n",
            "Adjusting learning rate of group 0 to 3.1250e-05.\n",
            "Adjusting learning rate of group 0 to 3.1250e-05.\n",
            "Epoch: 25, train loss: 0.023821, train acc: 0.992048, valid loss: 0.047273, valid acc: 0.989079\n",
            "Adjusting learning rate of group 0 to 3.1250e-05.\n",
            "Adjusting learning rate of group 0 to 3.1250e-05.\n",
            "Adjusting learning rate of group 0 to 3.1250e-05.\n",
            "Adjusting learning rate of group 0 to 1.5625e-05.\n",
            "===== Test Start =====\n",
            "Test loss: 0.044792, Test acc: 0.986879\n"
          ]
        },
        {
          "output_type": "display_data",
          "data": {
            "text/plain": [
              "<Figure size 1440x720 with 2 Axes>"
            ],
            "image/png": "[encoded data removed]"
          },
          "metadata": {
            "needs_background": "light"
          }
        }
      ]
    },
    {
      "cell_type": "code",
      "source": [
        ""
      ],
      "metadata": {
        "id": "xXMpeuAsNvk3"
      },
      "execution_count": null,
      "outputs": []
    }
  ]
}